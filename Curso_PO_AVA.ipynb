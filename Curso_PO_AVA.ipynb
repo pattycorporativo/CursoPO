{
  "nbformat": 4,
  "nbformat_minor": 0,
  "metadata": {
    "colab": {
      "provenance": [],
      "toc_visible": true,
      "authorship_tag": "ABX9TyNwN5kFZGhGnqiBYwyBpuPQ",
      "include_colab_link": true
    },
    "kernelspec": {
      "name": "python3",
      "display_name": "Python 3"
    },
    "language_info": {
      "name": "python"
    }
  },
  "cells": [
    {
      "cell_type": "markdown",
      "metadata": {
        "id": "view-in-github",
        "colab_type": "text"
      },
      "source": [
        "<a href=\"https://colab.research.google.com/github/pattycorporativo/CursoPO/blob/main/Curso_PO_AVA.ipynb\" target=\"_parent\"><img src=\"https://colab.research.google.com/assets/colab-badge.svg\" alt=\"Open In Colab\"/></a>"
      ]
    },
    {
      "cell_type": "code",
      "execution_count": null,
      "metadata": {
        "id": "UNfGnQfzNgVw"
      },
      "outputs": [],
      "source": []
    },
    {
      "cell_type": "markdown",
      "source": [
        "# Pesquisa Operacional"
      ],
      "metadata": {
        "id": "ef_62audNqj8"
      }
    },
    {
      "cell_type": "markdown",
      "source": [
        "##Instalando o módulo python do gurobi"
      ],
      "metadata": {
        "id": "ymO0P_QON3Bb"
      }
    },
    {
      "cell_type": "code",
      "source": [
        "pip install gurobipy"
      ],
      "metadata": {
        "colab": {
          "base_uri": "https://localhost:8080/"
        },
        "id": "RB1HbNzaN7xq",
        "outputId": "78a23559-a457-4562-a6e8-f8982ab3e9be"
      },
      "execution_count": 2,
      "outputs": [
        {
          "output_type": "stream",
          "name": "stdout",
          "text": [
            "Collecting gurobipy\n",
            "  Downloading gurobipy-12.0.2-cp311-cp311-manylinux2014_x86_64.manylinux_2_17_x86_64.whl.metadata (16 kB)\n",
            "Downloading gurobipy-12.0.2-cp311-cp311-manylinux2014_x86_64.manylinux_2_17_x86_64.whl (14.5 MB)\n",
            "\u001b[2K   \u001b[90m━━━━━━━━━━━━━━━━━━━━━━━━━━━━━━━━━━━━━━━━\u001b[0m \u001b[32m14.5/14.5 MB\u001b[0m \u001b[31m90.3 MB/s\u001b[0m eta \u001b[36m0:00:00\u001b[0m\n",
            "\u001b[?25hInstalling collected packages: gurobipy\n",
            "Successfully installed gurobipy-12.0.2\n"
          ]
        }
      ]
    },
    {
      "cell_type": "markdown",
      "source": [
        "## Executando um exemplo"
      ],
      "metadata": {
        "id": "nWPqiMayOHNT"
      }
    },
    {
      "cell_type": "code",
      "source": [
        "#!/usr/bin/env python3.11\n",
        "\n",
        "# Copyright 2025, Gurobi Optimization, LLC\n",
        "\n",
        "# This example formulates and solves the following simple MIP model:\n",
        "#  maximize\n",
        "#        x +   y + 2 z\n",
        "#  subject to\n",
        "#        x + 2 y + 3 z <= 4\n",
        "#        x +   y       >= 1\n",
        "#        x, y, z binary\n",
        "\n",
        "import gurobipy as gp\n",
        "from gurobipy import GRB\n",
        "\n",
        "try:\n",
        "    # Create a new model\n",
        "    m = gp.Model(\"mip1\")\n",
        "\n",
        "    # Create variables\n",
        "    x = m.addVar(vtype=GRB.BINARY, name=\"x\")\n",
        "    y = m.addVar(vtype=GRB.BINARY, name=\"y\")\n",
        "    z = m.addVar(vtype=GRB.BINARY, name=\"z\")\n",
        "\n",
        "    # Set objective\n",
        "    m.setObjective(x + y + 2 * z, GRB.MAXIMIZE)\n",
        "\n",
        "    # Add constraint: x + 2 y + 3 z <= 4\n",
        "    m.addConstr(x + 2 * y + 3 * z <= 4, \"c0\")\n",
        "\n",
        "    # Add constraint: x + y >= 1\n",
        "    m.addConstr(x + y >= 1, \"c1\")\n",
        "\n",
        "    # Optimize model\n",
        "    m.optimize()\n",
        "\n",
        "    for v in m.getVars():\n",
        "        print(f\"{v.VarName} {v.X:g}\")\n",
        "\n",
        "    print(f\"Obj: {m.ObjVal:g}\")\n",
        "\n",
        "except gp.GurobiError as e:\n",
        "    print(f\"Error code {e.errno}: {e}\")\n",
        "\n",
        "except AttributeError:\n",
        "    print(\"Encountered an attribute error\")"
      ],
      "metadata": {
        "colab": {
          "base_uri": "https://localhost:8080/"
        },
        "id": "WHAYJGixOIn_",
        "outputId": "c07f7b4e-47cd-4016-a71f-6f46c3928377"
      },
      "execution_count": 3,
      "outputs": [
        {
          "output_type": "stream",
          "name": "stdout",
          "text": [
            "Restricted license - for non-production use only - expires 2026-11-23\n",
            "Gurobi Optimizer version 12.0.2 build v12.0.2rc0 (linux64 - \"Ubuntu 22.04.4 LTS\")\n",
            "\n",
            "CPU model: Intel(R) Xeon(R) CPU @ 2.20GHz, instruction set [SSE2|AVX|AVX2]\n",
            "Thread count: 1 physical cores, 2 logical processors, using up to 2 threads\n",
            "\n",
            "Optimize a model with 2 rows, 3 columns and 5 nonzeros\n",
            "Model fingerprint: 0x98886187\n",
            "Variable types: 0 continuous, 3 integer (3 binary)\n",
            "Coefficient statistics:\n",
            "  Matrix range     [1e+00, 3e+00]\n",
            "  Objective range  [1e+00, 2e+00]\n",
            "  Bounds range     [1e+00, 1e+00]\n",
            "  RHS range        [1e+00, 4e+00]\n",
            "Found heuristic solution: objective 2.0000000\n",
            "Presolve removed 2 rows and 3 columns\n",
            "Presolve time: 0.00s\n",
            "Presolve: All rows and columns removed\n",
            "\n",
            "Explored 0 nodes (0 simplex iterations) in 0.01 seconds (0.00 work units)\n",
            "Thread count was 1 (of 2 available processors)\n",
            "\n",
            "Solution count 2: 3 2 \n",
            "\n",
            "Optimal solution found (tolerance 1.00e-04)\n",
            "Best objective 3.000000000000e+00, best bound 3.000000000000e+00, gap 0.0000%\n",
            "x 1\n",
            "y 0\n",
            "z 1\n",
            "Obj: 3\n"
          ]
        }
      ]
    },
    {
      "cell_type": "markdown",
      "source": [
        "# Exercício Aula 1"
      ],
      "metadata": {
        "id": "ebMvyiG8N83I"
      }
    },
    {
      "cell_type": "code",
      "source": [
        "#!/usr/bin/env python3.11\n",
        "\n",
        "# Copyright 2025, Gurobi Optimization, LLC\n",
        "\n",
        "# Exemplo da aula para localização de bases\n",
        "\n",
        "\n",
        "import gurobipy as gp\n",
        "from gurobipy import GRB\n",
        "\n",
        "try:\n",
        "    # Create a new model\n",
        "    m = gp.Model(\"mip1\")\n",
        "\n",
        "    matriz_a={\n",
        "    [0,   0,   0,   0,   0,   1,   1,   0,   0,   1],\n",
        "    [1,   0,   0,   0,   0,   0,   1,   0,   0,   1],\n",
        "    [1,   0,   0,   1,   1,   1,   1,   0,   0,   0],\n",
        "    [1,   1,   1,   0,   0,   0,   0,   1,   0,   1],\n",
        "    [1,   0,   0,   0,   1,   1,   0,   0,   1,   1],\n",
        "    [1,   0,   1,   0,   0,   1,   1,   1,   1,   1],\n",
        "    [1,   1,   0,   0,   0,   0,   0,   0,   1,   0],\n",
        "    [1,   1,   1,   1,   0,   1,   0,   1,   1,   1],\n",
        "    [0,   1,   1,   0,   1,   0,   1,   1,   1,   1],\n",
        "    [0,   1,   1,   1,   0,   0,   0,   1,   0,   1],\n",
        "    [1,   0,   1,   0,   1,   0,   0,   0,   0,   1],\n",
        "    [1,   1,   1,   1,   1,   0,   0,   1,   0,   0],\n",
        "    [1,   0,   1,   1,   1,   0,   0,   1,   1,   1],\n",
        "    [0,   1,   0,   1,   1,   1,   1,   1,   1,   1],\n",
        "    [0,   1,   0,   1,   0,   0,   0,   0,   0,   1],\n",
        "    [1,   1,   0,   1,   1,   0,   1,   1,   0,   1],\n",
        "    [0,   1,   0,   0,   0,   0,   1,   0,   1,   0],\n",
        "    [1,   1,   1,   0,   0,   1,   1,   1,   0,   1],\n",
        "    [0,   0,   0,   1,   0,   0,   0,   0,   0,   1],\n",
        "    [0,   1,   1,   0,   1,   1,   0,   0,   1,   1]\n",
        "    }\n",
        "\n",
        "\n",
        "except gp.GurobiError as e:\n",
        "    print(f\"Error code {e.errno}: {e}\")\n",
        "\n",
        "except AttributeError:\n",
        "    print(\"Encountered an attribute error\")"
      ],
      "metadata": {
        "id": "mjjAmIUlObNX"
      },
      "execution_count": null,
      "outputs": []
    }
  ]
}
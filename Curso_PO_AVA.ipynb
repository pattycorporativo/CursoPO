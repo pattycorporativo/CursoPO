{
  "nbformat": 4,
  "nbformat_minor": 0,
  "metadata": {
    "colab": {
      "provenance": [],
      "collapsed_sections": [
        "LcJiZJfAEnUf"
      ],
      "toc_visible": true,
      "authorship_tag": "ABX9TyNXAMumdtnwXtCbeDr7tZim",
      "include_colab_link": true
    },
    "kernelspec": {
      "name": "python3",
      "display_name": "Python 3"
    },
    "language_info": {
      "name": "python"
    }
  },
  "cells": [
    {
      "cell_type": "markdown",
      "metadata": {
        "id": "view-in-github",
        "colab_type": "text"
      },
      "source": [
        "<a href=\"https://colab.research.google.com/github/pattycorporativo/CursoPO/blob/main/Curso_PO_AVA.ipynb\" target=\"_parent\"><img src=\"https://colab.research.google.com/assets/colab-badge.svg\" alt=\"Open In Colab\"/></a>"
      ]
    },
    {
      "cell_type": "code",
      "execution_count": null,
      "metadata": {
        "id": "UNfGnQfzNgVw"
      },
      "outputs": [],
      "source": []
    },
    {
      "cell_type": "markdown",
      "source": [
        "# Pesquisa Operacional"
      ],
      "metadata": {
        "id": "ef_62audNqj8"
      }
    },
    {
      "cell_type": "markdown",
      "source": [
        "##Instalando o módulo python do gurobi"
      ],
      "metadata": {
        "id": "ymO0P_QON3Bb"
      }
    },
    {
      "cell_type": "code",
      "source": [
        "pip install gurobipy"
      ],
      "metadata": {
        "colab": {
          "base_uri": "https://localhost:8080/"
        },
        "id": "RB1HbNzaN7xq",
        "outputId": "53129e70-967f-40b2-893c-a4938cd384a5"
      },
      "execution_count": 3,
      "outputs": [
        {
          "output_type": "stream",
          "name": "stdout",
          "text": [
            "Collecting gurobipy\n",
            "  Downloading gurobipy-12.0.2-cp311-cp311-manylinux2014_x86_64.manylinux_2_17_x86_64.whl.metadata (16 kB)\n",
            "Downloading gurobipy-12.0.2-cp311-cp311-manylinux2014_x86_64.manylinux_2_17_x86_64.whl (14.5 MB)\n",
            "\u001b[2K   \u001b[90m━━━━━━━━━━━━━━━━━━━━━━━━━━━━━━━━━━━━━━━━\u001b[0m \u001b[32m14.5/14.5 MB\u001b[0m \u001b[31m69.6 MB/s\u001b[0m eta \u001b[36m0:00:00\u001b[0m\n",
            "\u001b[?25hInstalling collected packages: gurobipy\n",
            "Successfully installed gurobipy-12.0.2\n"
          ]
        }
      ]
    },
    {
      "cell_type": "markdown",
      "source": [
        "## Executando um exemplo"
      ],
      "metadata": {
        "id": "nWPqiMayOHNT"
      }
    },
    {
      "cell_type": "code",
      "source": [
        "#!/usr/bin/env python3.11\n",
        "\n",
        "# Copyright 2025, Gurobi Optimization, LLC\n",
        "\n",
        "# This example formulates and solves the following simple MIP model:\n",
        "#  maximize\n",
        "#        x +   y + 2 z\n",
        "#  subject to\n",
        "#        x + 2 y + 3 z <= 4\n",
        "#        x +   y       >= 1\n",
        "#        x, y, z binary\n",
        "\n",
        "import gurobipy as gp\n",
        "from gurobipy import GRB\n",
        "\n",
        "try:\n",
        "    # Create a new model\n",
        "    m = gp.Model(\"mip1\")\n",
        "\n",
        "    # Create variables\n",
        "    x = m.addVar(vtype=GRB.BINARY, name=\"x\")\n",
        "    y = m.addVar(vtype=GRB.BINARY, name=\"y\")\n",
        "    z = m.addVar(vtype=GRB.BINARY, name=\"z\")\n",
        "\n",
        "    # Set objective\n",
        "    m.setObjective(x + y + 2 * z, GRB.MAXIMIZE)\n",
        "\n",
        "    # Add constraint: x + 2 y + 3 z <= 4\n",
        "    m.addConstr(x + 2 * y + 3 * z <= 4, \"c0\")\n",
        "\n",
        "    # Add constraint: x + y >= 1\n",
        "    m.addConstr(x + y >= 1, \"c1\")\n",
        "\n",
        "    # Optimize model\n",
        "    m.optimize()\n",
        "\n",
        "    for v in m.getVars():\n",
        "        print(f\"{v.VarName} {v.X:g}\")\n",
        "\n",
        "    print(f\"Obj: {m.ObjVal:g}\")\n",
        "\n",
        "except gp.GurobiError as e:\n",
        "    print(f\"Error code {e.errno}: {e}\")\n",
        "\n",
        "except AttributeError:\n",
        "    print(\"Encountered an attribute error\")"
      ],
      "metadata": {
        "colab": {
          "base_uri": "https://localhost:8080/"
        },
        "id": "WHAYJGixOIn_",
        "outputId": "c07f7b4e-47cd-4016-a71f-6f46c3928377"
      },
      "execution_count": 3,
      "outputs": [
        {
          "output_type": "stream",
          "name": "stdout",
          "text": [
            "Restricted license - for non-production use only - expires 2026-11-23\n",
            "Gurobi Optimizer version 12.0.2 build v12.0.2rc0 (linux64 - \"Ubuntu 22.04.4 LTS\")\n",
            "\n",
            "CPU model: Intel(R) Xeon(R) CPU @ 2.20GHz, instruction set [SSE2|AVX|AVX2]\n",
            "Thread count: 1 physical cores, 2 logical processors, using up to 2 threads\n",
            "\n",
            "Optimize a model with 2 rows, 3 columns and 5 nonzeros\n",
            "Model fingerprint: 0x98886187\n",
            "Variable types: 0 continuous, 3 integer (3 binary)\n",
            "Coefficient statistics:\n",
            "  Matrix range     [1e+00, 3e+00]\n",
            "  Objective range  [1e+00, 2e+00]\n",
            "  Bounds range     [1e+00, 1e+00]\n",
            "  RHS range        [1e+00, 4e+00]\n",
            "Found heuristic solution: objective 2.0000000\n",
            "Presolve removed 2 rows and 3 columns\n",
            "Presolve time: 0.00s\n",
            "Presolve: All rows and columns removed\n",
            "\n",
            "Explored 0 nodes (0 simplex iterations) in 0.01 seconds (0.00 work units)\n",
            "Thread count was 1 (of 2 available processors)\n",
            "\n",
            "Solution count 2: 3 2 \n",
            "\n",
            "Optimal solution found (tolerance 1.00e-04)\n",
            "Best objective 3.000000000000e+00, best bound 3.000000000000e+00, gap 0.0000%\n",
            "x 1\n",
            "y 0\n",
            "z 1\n",
            "Obj: 3\n"
          ]
        }
      ]
    },
    {
      "cell_type": "code",
      "source": [],
      "metadata": {
        "id": "iG7ava_73Fgo"
      },
      "execution_count": null,
      "outputs": []
    },
    {
      "cell_type": "markdown",
      "source": [
        "# Exercício Aula 1"
      ],
      "metadata": {
        "id": "ebMvyiG8N83I"
      }
    },
    {
      "cell_type": "markdown",
      "source": [
        "## a) Propor um modelo matemático para definir os locais de instalação de postos de corpo de bombeiros.\n"
      ],
      "metadata": {
        "id": "AlzMIZjj25CK"
      }
    },
    {
      "cell_type": "code",
      "source": [
        "#!/usr/bin/env python3.11\n",
        "\n",
        "# Copyright 2025, Gurobi Optimization, LLC\n",
        "\n",
        "# Exemplo da aula para localização de bases\n",
        "\n",
        "\n",
        "import gurobipy as gp\n",
        "import numpy as np\n",
        "from gurobipy import GRB\n",
        "\n",
        "try:\n",
        "    # Create a new model\n",
        "    model = gp.Model(\"mip1\")\n",
        "\n",
        "    #[0,   0,   0,   0,   0,   0,   0,   0,   0,   0],\n",
        "\n",
        "    A = [\n",
        "   # 1    2    3     4   5    6    7    8    9    10\n",
        "    [0,   1,   0,   0,   0,   0,   0,   0,   0,   0],\n",
        "    [1,   1,   0,   0,   0,   0,   0,   0,   0,   0],\n",
        "    [1,   0,   1,   0,   0,   0,   0,   0,   0,   0],\n",
        "    [0,   0,   1,   0,   0,   0,   0,   0,   0,   0],\n",
        "    [0,   0,   1,   0,   0,   0,   0,   0,   0,   0],\n",
        "    [0,   1,   0,   0,   0,   0,   0,   0,   0,   0],\n",
        "    [0,   1,   0,   1,   0,   0,   0,   0,   0,   0],\n",
        "    [0,   0,   1,   1,   0,   0,   0,   0,   0,   0],\n",
        "    [0,   0,   0,   0,   0,   0,   0,   1,   0,   0],\n",
        "    [0,   0,   0,   1,   0,   1,   0,   0,   0,   0],\n",
        "    [0,   0,   0,   1,   1,   0,   0,   0,   0,   0],\n",
        "    [0,   0,   0,   1,   1,   1,   0,   0,   0,   0],\n",
        "    [0,   0,   0,   1,   1,   0,   1,   0,   0,   0],\n",
        "    [0,   0,   0,   0,   0,   0,   0,   1,   1,   0],\n",
        "    [0,   0,   0,   0,   0,   1,   0,   0,   1,   0],\n",
        "    [0,   0,   0,   0,   1,   1,   0,   0,   0,   0],\n",
        "    [0,   0,   0,   0,   1,   0,   1,   0,   0,   1],\n",
        "    [0,   0,   0,   0,   0,   0,   0,   1,   1,   0],\n",
        "    [0,   0,   0,   0,   0,   0,   0,   0,   1,   1],\n",
        "    [0,   0,   0,   0,   0,   0,   0,   0,   0,   1],\n",
        "    ]\n",
        "\n",
        "    populacao= np.array([5200, 4400, 7100, 9000, 6100, 5700, 10000,\n",
        "                         12200, 7600, 20300, 30400, 30900,\n",
        "                         12000, 9300, 15500, 25600, 11000, 5300, 7900, 9900])\n",
        "\n",
        "    custo = np.array([100, 200, 300, 400, 500, 600, 700, 800, 900, 1000])\n",
        "\n",
        "    n = len(custo)\n",
        "    m = len(populacao)\n",
        "\n",
        "#  minimizar\n",
        "#        sum c[j] * x[j]\n",
        "#  subject to\n",
        "#        sum A[i,j] * x[j] >= 1,  for i = 0, ..., m-1\n",
        "#               x[j] = {0,1}\n",
        "\n",
        "\n",
        "    # Create a new model\n",
        "    model = gp.Model(\"aula1\")\n",
        "\n",
        "    # Create variables\n",
        "    x = model.addVars(n, vtype=GRB.BINARY, name=\"x\")\n",
        "    y = model.addVars(n, vtype=GRB.BINARY, name=\"x\")\n",
        "\n",
        "    # Set objective\n",
        "    #model.setObjective(gp.quicksum(custo[j] * x[j] for j in range(n)), GRB.MINIMIZE)\n",
        "    model.setObjective(gp.quicksum(x[j] for j in range(n)), GRB.MINIMIZE)\n",
        "\n",
        "    # Add Constraints\n",
        "    for i in range(m):\n",
        "        model.addConstr(gp.quicksum(A[i][j] * x[j] for j in range(n)) >= 1)\n",
        "\n",
        "    # Optimize model\n",
        "    model.optimize()\n",
        "\n",
        "    for j in range(n):\n",
        "       # print(f\"{x[j].VarName} = {x[j].X:g}\")\n",
        "       print(f\"x[{j+1}] = {x[j].X:g}\")\n",
        "\n",
        "    print(f\"Obj: {model.ObjVal:g}\")\n",
        "\n",
        "except gp.GurobiError as e:\n",
        "    print(f\"Error code {e.errno}: {e}\")\n",
        "\n",
        "except AttributeError:\n",
        "    print(\"Encountered an attribute error\")"
      ],
      "metadata": {
        "colab": {
          "base_uri": "https://localhost:8080/"
        },
        "id": "mjjAmIUlObNX",
        "outputId": "35f47456-1e35-41a9-8f7a-e68d0614645b"
      },
      "execution_count": 9,
      "outputs": [
        {
          "output_type": "stream",
          "name": "stdout",
          "text": [
            "Gurobi Optimizer version 12.0.2 build v12.0.2rc0 (linux64 - \"Ubuntu 22.04.4 LTS\")\n",
            "\n",
            "CPU model: Intel(R) Xeon(R) CPU @ 2.20GHz, instruction set [SSE2|AVX|AVX2]\n",
            "Thread count: 1 physical cores, 2 logical processors, using up to 2 threads\n",
            "\n",
            "Optimize a model with 20 rows, 20 columns and 37 nonzeros\n",
            "Model fingerprint: 0x8f584f96\n",
            "Variable types: 0 continuous, 20 integer (20 binary)\n",
            "Coefficient statistics:\n",
            "  Matrix range     [1e+00, 1e+00]\n",
            "  Objective range  [1e+00, 1e+00]\n",
            "  Bounds range     [1e+00, 1e+00]\n",
            "  RHS range        [1e+00, 1e+00]\n",
            "Found heuristic solution: objective 6.0000000\n",
            "Presolve removed 20 rows and 20 columns\n",
            "Presolve time: 0.00s\n",
            "Presolve: All rows and columns removed\n",
            "\n",
            "Explored 0 nodes (0 simplex iterations) in 0.01 seconds (0.00 work units)\n",
            "Thread count was 1 (of 2 available processors)\n",
            "\n",
            "Solution count 1: 6 \n",
            "\n",
            "Optimal solution found (tolerance 1.00e-04)\n",
            "Best objective 6.000000000000e+00, best bound 6.000000000000e+00, gap 0.0000%\n",
            "x[1] = 0\n",
            "x[2] = 1\n",
            "x[3] = 1\n",
            "x[4] = 0\n",
            "x[5] = 1\n",
            "x[6] = 1\n",
            "x[7] = 0\n",
            "x[8] = 1\n",
            "x[9] = 0\n",
            "x[10] = 1\n",
            "Obj: 6\n"
          ]
        }
      ]
    },
    {
      "cell_type": "markdown",
      "source": [
        "### Modelagem q não deu certo"
      ],
      "metadata": {
        "id": "LcJiZJfAEnUf"
      }
    },
    {
      "cell_type": "code",
      "source": [
        "#!/usr/bin/env python3.11\n",
        "\n",
        "# Copyright 2025, Gurobi Optimization, LLC\n",
        "\n",
        "# Exemplo da aula para localização de bases\n",
        "\n",
        "\n",
        "import gurobipy as gp\n",
        "import numpy as np\n",
        "from gurobipy import GRB\n",
        "\n",
        "try:\n",
        "    # Create a new model\n",
        "    model = gp.Model(\"mip1\")\n",
        "\n",
        "    A = [\n",
        "   # 1    2    3     4   5    6    7    8    9    10\n",
        "    [0,   1,   1,   0,   0,   0,   0,   0,   0,   0],\n",
        "    [1,   1,   0,   0,   0,   1,   1,   0,   0,   0],\n",
        "    [0,   0,   1,   1,   1,   0,   0,   1,   0,   0],\n",
        "    [1,   1,   1,   0,   0,   0,   0,   1,   0,   1],\n",
        "    [1,   0,   0,   0,   1,   1,   0,   0,   1,   1]\n",
        "    ]\n",
        "\n",
        "\n",
        "    populacao= np.array([5200, 4400, 7100, 9000, 6100, 5700, 10000,\n",
        "                         12200, 7600, 20300])\n",
        "\n",
        "    custo = np.array([100, 200, 300, 400, 500])\n",
        "\n",
        "    n = len(custo)\n",
        "    m = len(populacao)\n",
        "    regioes = range(len(populacao))\n",
        "    instalacoes = range(len(custo))\n",
        "\n",
        "#  minimizar\n",
        "#        sum c[j] * y[j][i]\n",
        "#  subject to\n",
        "#        sum A[i,j] * y[j][i] = 1,  for i = 0, ..., m-1\n",
        "#             y[i,j] <= x[j],  for i = 0, ..., m-1\n",
        "#               x[j] = {0,1}\n",
        "\n",
        "\n",
        "    # Create a new model\n",
        "    model = gp.Model(\"aula1\")\n",
        "\n",
        "    # Create variables\n",
        "    x = model.addVars(n, vtype=GRB.BINARY, obj=custo, name=\"x\")\n",
        "    y = model.addMVar((m, n), vtype=GRB.BINARY, name=\"y\")\n",
        "\n",
        "    # Set objective\n",
        "    for j in regioes:\n",
        "        model.setObjective(gp.quicksum(custo[i] * y[j][i] for i in range(n)),\n",
        "                           GRB.MINIMIZE)\n",
        "\n",
        "    # Add Constraints - cobertura - apenas uma instalação para cada regiao\n",
        "    for j in regioes:\n",
        "        model.addConstr(gp.quicksum(A[j][i] * y[i][j] for j in instalacoes) >= 1)\n",
        "        #model.addConstr(gp.quicksum(A[i][j] * y[j][i] for j in range(n)) == 1)\n",
        "\n",
        "    # Add Constraints - cobertura\n",
        "    #for i in range(n):\n",
        "    #    model.addConstr( gp.quicksum(y[j][i] for j in regioes) <= x[i])\n",
        "\n",
        "\n",
        "    # Add Constraints - cobertura\n",
        "    #model.addConstr(gp.quicksum(x[i] for i in range(n)) ==  2 )\n",
        "\n",
        "\n",
        "    # Optimize model\n",
        "    model.optimize()\n",
        "\n",
        "    for i in range(n):\n",
        "        print(f\"{x[i].VarName} = {x[i].X:g}\")\n",
        "\n",
        "    print(f\"Obj: {model.ObjVal:g}\")\n",
        "\n",
        "    print(\"Regiões atendidas por cada instalação\")\n",
        "\n",
        "    for j in regioes:\n",
        "      facilidades=f\"Região {j} atendida pelas facilidades:[\"\n",
        "      for i in range(n):\n",
        "         #print(f\"y[{j}][{i}] = {y[j][i].X:g} {int(y[j][i].X)==1}\")\n",
        "         if (y[j][i].X==1):\n",
        "            facilidades = facilidades + f\"{i} \"\n",
        "      facilidades = facilidades +\"]\"\n",
        "      print( facilidades )\n",
        "except gp.GurobiError as e:\n",
        "    print(f\"Error code {e.errno}: {e}\")\n",
        "\n",
        "except AttributeError:\n",
        "    print(\"Encountered an attribute error\")"
      ],
      "metadata": {
        "colab": {
          "base_uri": "https://localhost:8080/",
          "height": 399
        },
        "id": "UcrZRkrDEv5c",
        "outputId": "f2992d08-49e5-4694-cea6-2e0ece01ef5a"
      },
      "execution_count": 2,
      "outputs": [
        {
          "output_type": "error",
          "ename": "ModuleNotFoundError",
          "evalue": "No module named 'gurobipy'",
          "traceback": [
            "\u001b[0;31m---------------------------------------------------------------------------\u001b[0m",
            "\u001b[0;31mModuleNotFoundError\u001b[0m                       Traceback (most recent call last)",
            "\u001b[0;32m<ipython-input-2-1477873937>\u001b[0m in \u001b[0;36m<cell line: 0>\u001b[0;34m()\u001b[0m\n\u001b[1;32m      6\u001b[0m \u001b[0;34m\u001b[0m\u001b[0m\n\u001b[1;32m      7\u001b[0m \u001b[0;34m\u001b[0m\u001b[0m\n\u001b[0;32m----> 8\u001b[0;31m \u001b[0;32mimport\u001b[0m \u001b[0mgurobipy\u001b[0m \u001b[0;32mas\u001b[0m \u001b[0mgp\u001b[0m\u001b[0;34m\u001b[0m\u001b[0;34m\u001b[0m\u001b[0m\n\u001b[0m\u001b[1;32m      9\u001b[0m \u001b[0;32mimport\u001b[0m \u001b[0mnumpy\u001b[0m \u001b[0;32mas\u001b[0m \u001b[0mnp\u001b[0m\u001b[0;34m\u001b[0m\u001b[0;34m\u001b[0m\u001b[0m\n\u001b[1;32m     10\u001b[0m \u001b[0;32mfrom\u001b[0m \u001b[0mgurobipy\u001b[0m \u001b[0;32mimport\u001b[0m \u001b[0mGRB\u001b[0m\u001b[0;34m\u001b[0m\u001b[0;34m\u001b[0m\u001b[0m\n",
            "\u001b[0;31mModuleNotFoundError\u001b[0m: No module named 'gurobipy'",
            "",
            "\u001b[0;31m---------------------------------------------------------------------------\u001b[0;32m\nNOTE: If your import is failing due to a missing package, you can\nmanually install dependencies using either !pip or !apt.\n\nTo view examples of installing some common dependencies, click the\n\"Open Examples\" button below.\n\u001b[0;31m---------------------------------------------------------------------------\u001b[0m\n"
          ],
          "errorDetails": {
            "actions": [
              {
                "action": "open_url",
                "actionText": "Open Examples",
                "url": "/notebooks/snippets/importing_libraries.ipynb"
              }
            ]
          }
        }
      ]
    },
    {
      "cell_type": "markdown",
      "source": [
        "## b) No caso de haver restrição orçamentária que não permita garantir o atendimento de todas as regiões e, conhecendo a população 𝑝𝑝𝑗𝑗 de cada região 𝑗𝑗, proponha o modelo para instalação de q postos do corpo de bombeiros."
      ],
      "metadata": {
        "id": "XOTZCHKz3oxF"
      }
    },
    {
      "cell_type": "code",
      "source": [
        "#!/usr/bin/env python3.11\n",
        "\n",
        "# Copyright 2025, Gurobi Optimization, LLC\n",
        "\n",
        "# Exemplo da aula para localização de bases\n",
        "\n",
        "\n",
        "import gurobipy as gp\n",
        "import numpy as np\n",
        "from gurobipy import GRB\n",
        "\n",
        "try:\n",
        "    # Create a new model\n",
        "    model = gp.Model(\"mip1\")\n",
        "\n",
        "    #[0,   0,   0,   0,   0,   0,   0,   0,   0,   0],\n",
        "\n",
        "    A = [\n",
        "   # 1    2    3     4   5    6    7    8    9    10\n",
        "    [0,   1,   0,   0,   0,   0,   0,   0,   0,   0],\n",
        "    [1,   1,   0,   0,   0,   0,   0,   0,   0,   0],\n",
        "    [1,   0,   1,   0,   0,   0,   0,   0,   0,   0],\n",
        "    [0,   0,   1,   0,   0,   0,   0,   0,   0,   0],\n",
        "    [0,   0,   1,   0,   0,   0,   0,   0,   0,   0],\n",
        "    [0,   1,   0,   0,   0,   0,   0,   0,   0,   0],\n",
        "    [0,   1,   0,   1,   0,   0,   0,   0,   0,   0],\n",
        "    [0,   0,   1,   1,   0,   0,   0,   0,   0,   0],\n",
        "    [0,   0,   0,   0,   0,   0,   0,   1,   0,   0],\n",
        "    [0,   0,   0,   1,   0,   1,   0,   0,   0,   0],\n",
        "    [0,   0,   0,   1,   1,   0,   0,   0,   0,   0],\n",
        "    [0,   0,   0,   1,   1,   1,   0,   0,   0,   0],\n",
        "    [0,   0,   0,   1,   1,   0,   1,   0,   0,   0],\n",
        "    [0,   0,   0,   0,   0,   0,   0,   1,   1,   0],\n",
        "    [0,   0,   0,   0,   0,   1,   0,   0,   1,   0],\n",
        "    [0,   0,   0,   0,   1,   1,   0,   0,   0,   0],\n",
        "    [0,   0,   0,   0,   1,   0,   1,   0,   0,   1],\n",
        "    [0,   0,   0,   0,   0,   0,   0,   1,   1,   0],\n",
        "    [0,   0,   0,   0,   0,   0,   0,   0,   1,   1],\n",
        "    [0,   0,   0,   0,   0,   0,   0,   0,   0,   1],\n",
        "    ]\n",
        "\n",
        "    populacao= np.array([5200, 4400, 7100, 9000, 6100, 5700, 10000,\n",
        "                         12200, 7600, 20300, 30400, 30900,\n",
        "                         12000, 9300, 15500, 25600, 11000, 5300, 7900, 9900])\n",
        "\n",
        "    custo = np.array([100, 200, 300, 400, 500, 600, 700, 800, 900, 1000])\n",
        "\n",
        "    n = len(custo)\n",
        "    m = len(populacao)\n",
        "    regioes = range(len(populacao))\n",
        "    instalacoes = range(len(custo))\n",
        "\n",
        "#  maximizar\n",
        "#        sum P[j] * x[j]\n",
        "#  subject to\n",
        "#        sum A[i,j] * x[j] + y[j] >= 1,  for i = 0, ..., m-1\n",
        "#            sum x[i] < 6 , for i=0,..,n\n",
        "#               x[j] = {0,1}\n",
        "#               y[j] = {0,1}\n",
        "\n",
        "\n",
        "    # Create a new model\n",
        "    model = gp.Model(\"aula1\")\n",
        "\n",
        "    # Create variables\n",
        "    x = model.addVars(n, vtype=GRB.BINARY, name=\"x\")\n",
        "    y = model.addVars(m, vtype=GRB.BINARY, name=\"y\")\n",
        "\n",
        "    # Set objective\n",
        "    #model.setObjective(gp.quicksum(x[j] for j in instalacoes), GRB.MINIMIZE)\n",
        "    model.setObjective(gp.quicksum(populacao[j] * y[j] for j in regioes), GRB.MINIMIZE)\n",
        "\n",
        "\n",
        "    # Add Constraints\n",
        "    for j in regioes:\n",
        "        model.addConstr(gp.quicksum(A[j][i] * x[i] for i in instalacoes)+y[j] >= 1)\n",
        "\n",
        "    # Add Constraints\n",
        "    #for j in instalacoes:\n",
        "    model.addConstr(gp.quicksum( x[i] for i in instalacoes) < 6 )\n",
        "\n",
        "    # Optimize model\n",
        "    model.optimize()\n",
        "\n",
        "    for j in range(n):\n",
        "       # print(f\"{x[j].VarName} = {x[j].X:g}\")\n",
        "       print(f\"x[{j+1}] = {x[j].X:g}\")\n",
        "\n",
        "    print(\"----------------------------------------------\")\n",
        "    for j in regioes:\n",
        "       # print(f\"{x[j].VarName} = {x[j].X:g}\")\n",
        "       print(f\"y[{j+1}] = {y[j].X:g}\")\n",
        "\n",
        "    print(f\"Obj: {model.ObjVal:g}\")\n",
        "\n",
        "except gp.GurobiError as e:\n",
        "    print(f\"Error code {e.errno}: {e}\")\n",
        "\n",
        "except AttributeError:\n",
        "    print(\"Encountered an attribute error\")"
      ],
      "metadata": {
        "colab": {
          "base_uri": "https://localhost:8080/"
        },
        "id": "KLggewCF3xHM",
        "outputId": "df719336-5c4a-47a0-cd76-12a984159f25"
      },
      "execution_count": 29,
      "outputs": [
        {
          "output_type": "stream",
          "name": "stdout",
          "text": [
            "Gurobi Optimizer version 12.0.2 build v12.0.2rc0 (linux64 - \"Ubuntu 22.04.4 LTS\")\n",
            "\n",
            "CPU model: Intel(R) Xeon(R) CPU @ 2.20GHz, instruction set [SSE2|AVX|AVX2]\n",
            "Thread count: 1 physical cores, 2 logical processors, using up to 2 threads\n",
            "\n",
            "Optimize a model with 21 rows, 30 columns and 67 nonzeros\n",
            "Model fingerprint: 0x98086229\n",
            "Variable types: 0 continuous, 30 integer (30 binary)\n",
            "Coefficient statistics:\n",
            "  Matrix range     [1e+00, 1e+00]\n",
            "  Objective range  [4e+03, 3e+04]\n",
            "  Bounds range     [1e+00, 1e+00]\n",
            "  RHS range        [1e+00, 6e+00]\n",
            "Found heuristic solution: objective 245400.00000\n",
            "Presolve removed 8 rows and 9 columns\n",
            "Presolve time: 0.00s\n",
            "Presolved: 13 rows, 21 columns, 46 nonzeros\n",
            "Variable types: 0 continuous, 21 integer (21 binary)\n",
            "Found heuristic solution: objective 134700.00000\n",
            "\n",
            "Root relaxation: objective 0.000000e+00, 2 iterations, 0.00 seconds (0.00 work units)\n",
            "\n",
            "    Nodes    |    Current Node    |     Objective Bounds      |     Work\n",
            " Expl Unexpl |  Obj  Depth IntInf | Incumbent    BestBd   Gap | It/Node Time\n",
            "\n",
            "*    0     0               0       0.0000000    0.00000  0.00%     -    0s\n",
            "\n",
            "Explored 1 nodes (2 simplex iterations) in 0.02 seconds (0.00 work units)\n",
            "Thread count was 2 (of 2 available processors)\n",
            "\n",
            "Solution count 3: 0 134700 245400 \n",
            "\n",
            "Optimal solution found (tolerance 1.00e-04)\n",
            "Best objective 0.000000000000e+00, best bound 0.000000000000e+00, gap 0.0000%\n",
            "x[1] = -0\n",
            "x[2] = 1\n",
            "x[3] = 1\n",
            "x[4] = -0\n",
            "x[5] = 1\n",
            "x[6] = 1\n",
            "x[7] = 0\n",
            "x[8] = 1\n",
            "x[9] = -0\n",
            "x[10] = 1\n",
            "----------------------------------------------\n",
            "y[1] = 0\n",
            "y[2] = -0\n",
            "y[3] = -0\n",
            "y[4] = 0\n",
            "y[5] = 0\n",
            "y[6] = 0\n",
            "y[7] = -0\n",
            "y[8] = -0\n",
            "y[9] = 0\n",
            "y[10] = -0\n",
            "y[11] = 0\n",
            "y[12] = -0\n",
            "y[13] = -0\n",
            "y[14] = -0\n",
            "y[15] = -0\n",
            "y[16] = -0\n",
            "y[17] = -0\n",
            "y[18] = 0\n",
            "y[19] = -0\n",
            "y[20] = 0\n",
            "Obj: 0\n"
          ]
        }
      ]
    }
  ]
}